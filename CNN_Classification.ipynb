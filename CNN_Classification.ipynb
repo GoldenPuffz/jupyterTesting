{
 "cells": [
  {
   "cell_type": "code",
   "execution_count": null,
   "metadata": {},
   "outputs": [],
   "source": [
    "from tensorflow.keras.models import Sequential\n",
    "from tensorflow.keras.layers import Conv2D, MaxPooling2D, Dense, Flatten\n",
    "import numpy\n",
    "import matplotlib.pylab as plt\n",
    "import random\n",
    "\n"
   ]
  },
  {
   "attachments": {},
   "cell_type": "markdown",
   "metadata": {},
   "source": [
    "LOAD DATASET"
   ]
  },
  {
   "cell_type": "code",
   "execution_count": null,
   "metadata": {},
   "outputs": [],
   "source": [
    "X_train = np.loadtxt(\"input.csv\", delimiter = \",\")  #note the files are just for example, I need the actual images before I can train anything.\n",
    "Y_train = np.loadtxt(\"labels.csv\", delimiter = \",\")\n",
    "\n",
    "X_test = np.loadtxt(\"input_test.csv\", delimiter = \",\")\n",
    "Y_test = np.loadtxt(\"labels_test.csv\", delimiter = \",\")\n",
    "\n",
    "\n",
    "X_train = X_train/255\n",
    "Y_train = Y_train/255\n",
    "\n",
    "X_test = X_test/255\n",
    "Y_test = Y_test/255\n"
   ]
  },
  {
   "cell_type": "code",
   "execution_count": null,
   "metadata": {},
   "outputs": [],
   "source": [
    "X_train = X_train.reshape(len(X_train), 100, 100, 3)\n",
    "Y_train = Y_train.reshape(len(Y_train), 1)\n",
    "\n",
    "X_test = X_test.reshape(len(X_test), 100, 100, 3)\n",
    "Y_test = Y_test.reshape(len(Y_test), 1)"
   ]
  },
  {
   "cell_type": "code",
   "execution_count": null,
   "metadata": {},
   "outputs": [],
   "source": [
    "print(\"Shape of X_train: \", X_train.shape)\n",
    "print(\"Shape of Y_train: \", Y_train.shape)\n",
    "print(\"Shape of X_test: \", X_test.shape)\n",
    "print(\"Shape of Y_test: \", Y_test.shape)\n"
   ]
  },
  {
   "cell_type": "code",
   "execution_count": null,
   "metadata": {},
   "outputs": [],
   "source": [
    "idx = random.randint(0, len(X_train)) #chooses a random image to show\n",
    "plt.imshow(X_train[idx, :])\n",
    "plt.show()"
   ]
  },
  {
   "attachments": {},
   "cell_type": "markdown",
   "metadata": {},
   "source": [
    "SEQUENTIAL MODELS"
   ]
  },
  {
   "cell_type": "code",
   "execution_count": null,
   "metadata": {},
   "outputs": [],
   "source": [
    "model = Sequential([\n",
    "    Conv2D(32, (3,3), activation = 'relu', input_shape = (100, 100 3)), #defining layers\n",
    "    MaxPooling2D((2,2)),\n",
    "\n",
    "    Conv2D(32, (3,3), activation = 'relu'),\n",
    "    MaxPooling2D((2,2)),\n",
    "\n",
    "    Flatten(),\n",
    "    Dense(64, activation = 'relu')#(number of neurons)\n",
    "    Dense(1, activation = 'sigmoid')\n",
    "\n",
    "])"
   ]
  },
  {
   "cell_type": "code",
   "execution_count": null,
   "metadata": {},
   "outputs": [],
   "source": [
    "model.compile(loss = 'binary_crossentropy', optimizer = 'adam', metrics = ['accuracy'])  #change out based on needs"
   ]
  },
  {
   "cell_type": "code",
   "execution_count": null,
   "metadata": {},
   "outputs": [],
   "source": [
    "model.fit(X_train, Y_train, epochs = 5, batch_size = 64) #epochs is how many times we train it. More the more accurate"
   ]
  },
  {
   "cell_type": "code",
   "execution_count": null,
   "metadata": {},
   "outputs": [],
   "source": [
    "model.evaluate(X_test, Y_test)"
   ]
  },
  {
   "attachments": {},
   "cell_type": "markdown",
   "metadata": {},
   "source": [
    "Predictions"
   ]
  },
  {
   "cell_type": "code",
   "execution_count": null,
   "metadata": {},
   "outputs": [],
   "source": [
    "idx2 = random.randint(0, len(X_test)) #chooses a random image to show\n",
    "plt.imshow(X_test[idx2, :])\n",
    "plt.show()\n",
    "\n",
    "y_pred = model.predict(X_test[idx2, :].reshape(1, 100, 100, 3))\n",
    "y_pred = y_pred > 0.5\n",
    "\n",
    "if(y_pred == 0):\n",
    "    pred = 'damaged'\n",
    "else:\n",
    "    pred = 'healthy'\n",
    "print('The solar cell is ', pred )"
   ]
  }
 ],
 "metadata": {
  "kernelspec": {
   "display_name": "IR_Testing",
   "language": "python",
   "name": "python3"
  },
  "language_info": {
   "name": "python",
   "version": "3.11.3"
  },
  "orig_nbformat": 4
 },
 "nbformat": 4,
 "nbformat_minor": 2
}
